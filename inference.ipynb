{
 "cells": [
  {
   "cell_type": "code",
   "execution_count": null,
   "metadata": {},
   "outputs": [],
   "source": [
    "from diffusers import StableDiffusionPipeline\n",
    "import torch\n",
    "model_path = \"./output_final\"\n",
    "# You can add a parameter called revision to pull a model from a specific commit\n",
    "#pipe = StableDiffusionPipeline.from_pretrained(model_path, revision =\"COMMIT_HASH\", torch_dtype=torch.float16)\n",
    "pipe = StableDiffusionPipeline.from_pretrained(model_path, torch_dtype=torch.float16)\n",
    "pipe.to(\"cuda\")\n",
    "\n",
    "prompt = \"a bear wearing a red jacket\"\n",
    "image = pipe(prompt=prompt).images[0]\n",
    "display(image.resize((256, 256)))\n",
    "# image.save(\"yoda-pokemon.png\")"
   ]
  }
 ],
 "metadata": {
  "kernelspec": {
   "display_name": "Python 3.8.8 64-bit",
   "language": "python",
   "name": "python3"
  },
  "language_info": {
   "codemirror_mode": {
    "name": "ipython",
    "version": 3
   },
   "file_extension": ".py",
   "mimetype": "text/x-python",
   "name": "python",
   "nbconvert_exporter": "python",
   "pygments_lexer": "ipython3",
   "version": "3.8.8"
  },
  "vscode": {
   "interpreter": {
    "hash": "ca30a4cf00ad79a198fd0c1ac8334d2ddc95d921e586435dc1f0f2496d57f5b2"
   }
  }
 },
 "nbformat": 4,
 "nbformat_minor": 4
}
